{
   "cells": [
      {
         "cell_type": "markdown",
         "metadata": {},
         "source": [
            "# Übung - Metadaten suchen & filtern"
         ]
      },
      {
         "cell_type": "markdown",
         "metadata": {},
         "source": [
            "In dieser Übung wollen wir mit Hilfe von SPARQL Metadaten suchen und filtern, wie im vorherigen Abschnitt gezeigt. Analog zur Forschungsfrage suchen wir nun also nach Datensätzen:\n",
            "- die das Wort \"Baumkataster\" im Titel beinhalten und\n",
            "- die im Zeitabschnitt 2022-2024 erschienen sind.\n",
            "\n",
            "Darüber hinaus gilt es darauf zu achten, wer die Datenbereitsteller sind und in welchen Formaten die Datensätze bereitgestellt werden."
         ]
      },
      {
         "cell_type": "markdown",
         "metadata": {},
         "source": [
            "Als erstes setzen wir mit\n",
            "\n",
            "*%endpoint ...* \n",
            "\n",
            "wieder unsere Verknüpfung. "
         ]
      },
      {
         "cell_type": "markdown",
         "metadata": {},
         "source": [
            "**Code**"
         ]
      },
      {
         "cell_type": "code",
         "execution_count": null,
         "metadata": {
            "tags": [
               "hide-cell",
               "skip-execution"
            ]
         },
         "outputs": [],
},
      {
         "cell_type": "code",
         "execution_count": null,
         "metadata": {
            "tags": [
               "hide-cell",
               "remove-input"
            ]
         },
         "outputs": [
            {
               "data": {
                  "text/html": [
                     "<div class=\"krn-spql\"><div class=\"magic\">Endpoint set to: https://data.europa.eu/sparql</div></div>"
                  ],
                  "text/plain": [
                     "Endpoint set to: https://data.europa.eu/sparql\n"
                  ]
               },
               "metadata": {},
               "output_type": "display_data"
            },
            {
               "data": {
                  "text/html": [
                     "<div class=\"krn-spql\"><table><tr class=hdr><th>uri</th>\n",
                     "<th>title</th>\n",
                     "<th>contributorid</th>\n",
                     "<th>modified</th></tr><tr class=odd><td class=val><a href=\"http://data.europa.eu/88u/dataset/5f0aaf45-f380-49b3-87be-51abaddacbe0\" target=\"_other\">http://data.europa.eu/88u/dataset/5f0aaf45-f380-49b3-87be-51abaddacbe0</a></td>\n",
                     "<td class=val>Baumkataster Norderstedt</td>\n",
                     "<td class=val><a href=\"http://dcat-ap.de/def/contributors/schleswigHolstein\" target=\"_other\">http://dcat-ap.de/def/contributors/schleswigHolstein</a></td>\n",
                     "<td class=val>2022-04-12T07:58:22.519048</td></tr><tr class=even><td class=val><a href=\"http://data.europa.eu/88u/dataset/cfbe70e6-6078-42db-8c9b-f8745ee8916e\" target=\"_other\">http://data.europa.eu/88u/dataset/cfbe70e6-6078-42db-8c9b-f8745ee8916e</a></td>\n",
                     "<td class=val>Baumkataster</td>\n",
                     "<td class=val><a href=\"http://dcat-ap.de/def/contributors/schleswigHolstein\" target=\"_other\">http://dcat-ap.de/def/contributors/schleswigHolstein</a></td>\n",
                     "<td class=val>2023-06-09T05:25:52.631385</td></tr><tr class=odd><td class=val><a href=\"http://data.europa.eu/88u/dataset/200e532c-a381-4611-ba05-4ed7afc31230\" target=\"_other\">http://data.europa.eu/88u/dataset/200e532c-a381-4611-ba05-4ed7afc31230</a></td>\n",
                     "<td class=val>Baumkataster des ASG Wesel</td>\n",
                     "<td class=val><a href=\"http://dcat-ap.de/def/contributors/openNRW\" target=\"_other\">http://dcat-ap.de/def/contributors/openNRW</a></td>\n",
                     "<td class=val>2024-05-28T11:46:06.401383</td></tr><tr class=even><td class=val><a href=\"http://data.europa.eu/88u/dataset/baumkataster_stadt_wuerzburg-wuerzburg\" target=\"_other\">http://data.europa.eu/88u/dataset/baumkataster_stadt_wuerzburg-wuerzburg</a></td>\n",
                     "<td class=val>Baumkataster der Stadt Würzburg</td>\n",
                     "<td class=val><a href=\"http://dcat-ap.de/def/contributors/openDataBayern\" target=\"_other\">http://dcat-ap.de/def/contributors/openDataBayern</a></td>\n",
                     "<td class=val>2024-11-14T13:33:38.241Z</td></tr><tr class=odd><td class=val><a href=\"http://data.europa.eu/88u/dataset/59dd9d5d-cd65-43f8-bd13-d82734e640ef\" target=\"_other\">http://data.europa.eu/88u/dataset/59dd9d5d-cd65-43f8-bd13-d82734e640ef</a></td>\n",
                     "<td class=val>Baumkataster Koeln 2020</td>\n",
                     "<td class=val><a href=\"http://dcat-ap.de/def/contributors/openNRW\" target=\"_other\">http://dcat-ap.de/def/contributors/openNRW</a></td>\n",
                     "<td class=val>2024-06-25T08:34:10+02:00</td></tr><tr class=even><td class=val><a href=\"http://data.europa.eu/88u/dataset/cee75d75-4b4e-4bea-9d24-8b5993b54479~~1\" target=\"_other\">http://data.europa.eu/88u/dataset/cee75d75-4b4e-4bea-9d24-8b5993b54479~~1</a></td>\n",
                     "<td class=val>Baumkataster, Stadt Leipzig</td>\n",
                     "<td class=val><a href=\"http://dcat-ap.de/def/contributors/freistaatSachsen\" target=\"_other\">http://dcat-ap.de/def/contributors/freistaatSachsen</a></td>\n",
                     "<td class=val>2024-07-15T00:00:00</td></tr><tr class=odd><td class=val><a href=\"http://data.europa.eu/88u/dataset/https-open-bydata-de-api-hub-repo-datasets-baumkataster-der-stadt-hassfurt\" target=\"_other\">http://data.europa.eu/88u/dataset/https-open-bydata-de-api-hub-repo-datasets-baumkataster-der-stadt-hassfurt</a></td>\n",
                     "<td class=val>Baumkataster der Stadt Haßfurt</td>\n",
                     "<td class=val><a href=\"http://dcat-ap.de/def/contributors/openDataBayern\" target=\"_other\">http://dcat-ap.de/def/contributors/openDataBayern</a></td>\n",
                     "<td class=val>2023-11-24T00:00:00</td></tr><tr class=even><td class=val><a href=\"http://data.europa.eu/88u/dataset/09653fe3-ad6b-44d6-88e2-25b8042ee43d~~1\" target=\"_other\">http://data.europa.eu/88u/dataset/09653fe3-ad6b-44d6-88e2-25b8042ee43d~~1</a></td>\n",
                     "<td class=val>Baumkataster Frankfurt (Oder) - (WFS-BAUMKATASTER)</td>\n",
                     "<td class=val><a href=\"http://dcat-ap.de/def/contributors/openDataBrandenburg\" target=\"_other\">http://dcat-ap.de/def/contributors/openDataBrandenburg</a></td>\n",
                     "<td class=val>2024-06-07T12:18:50</td></tr><tr class=odd><td class=val><a href=\"http://data.europa.eu/88u/dataset/3a14f846-13a1-47d9-874f-3843007d85b7\" target=\"_other\">http://data.europa.eu/88u/dataset/3a14f846-13a1-47d9-874f-3843007d85b7</a></td>\n",
                     "<td class=val>Baumkataster - Amt Beetsee Gemeinde Beetzseeheide (WMS)</td>\n",
                     "<td class=val><a href=\"http://dcat-ap.de/def/contributors/openDataBrandenburg\" target=\"_other\">http://dcat-ap.de/def/contributors/openDataBrandenburg</a></td>\n",
                     "<td class=val>2024-12-04T14:04:13</td></tr><tr class=even><td class=val><a href=\"http://data.europa.eu/88u/dataset/https-open-bydata-de-api-hub-repo-datasets-baumkataster-der-stadt-erlangen\" target=\"_other\">http://data.europa.eu/88u/dataset/https-open-bydata-de-api-hub-repo-datasets-baumkataster-der-stadt-erlangen</a></td>\n",
                     "<td class=val>Baumkataster der Stadt Erlangen</td>\n",
                     "<td class=val><a href=\"http://dcat-ap.de/def/contributors/openDataBayern\" target=\"_other\">http://dcat-ap.de/def/contributors/openDataBayern</a></td>\n",
                     "<td class=val>2024-04-11T05:39:58.589234</td></tr><tr class=odd><td class=val><a href=\"http://data.europa.eu/88u/dataset/https-open-bydata-de-api-hub-repo-datasets-baumkataster-der-stadt-erlangen\" target=\"_other\">http://data.europa.eu/88u/dataset/https-open-bydata-de-api-hub-repo-datasets-baumkataster-der-stadt-erlangen</a></td>\n",
                     "<td class=val>Baumkataster der Stadt Erlangen</td>\n",
                     "<td class=val><a href=\"http://dcat-ap.de/def/contributors/stadtErlangen\" target=\"_other\">http://dcat-ap.de/def/contributors/stadtErlangen</a></td>\n",
                     "<td class=val>2024-04-11T05:39:58.589234</td></tr><tr class=even><td class=val><a href=\"http://data.europa.eu/88u/dataset/0056a74a-6153-440f-a68f-aaea93a3bf25\" target=\"_other\">http://data.europa.eu/88u/dataset/0056a74a-6153-440f-a68f-aaea93a3bf25</a></td>\n",
                     "<td class=val>Baumkataster Koeln 2017</td>\n",
                     "<td class=val><a href=\"http://dcat-ap.de/def/contributors/openNRW\" target=\"_other\">http://dcat-ap.de/def/contributors/openNRW</a></td>\n",
                     "<td class=val>2024-06-25T08:34:10+02:00</td></tr><tr class=odd><td class=val><a href=\"http://data.europa.eu/88u/dataset/771b3471-f63a-4de8-b930-31dde0d23417\" target=\"_other\">http://data.europa.eu/88u/dataset/771b3471-f63a-4de8-b930-31dde0d23417</a></td>\n",
                     "<td class=val>Baumkataster - Amt Beetsee Gemeinde Beetzseeheide (WFS)</td>\n",
                     "<td class=val><a href=\"http://dcat-ap.de/def/contributors/openDataBrandenburg\" target=\"_other\">http://dcat-ap.de/def/contributors/openDataBrandenburg</a></td>\n",
                     "<td class=val>2024-12-04T14:04:13</td></tr><tr class=even><td class=val><a href=\"http://data.europa.eu/88u/dataset/e02ad618-ab42-48b5-8551-849aa936bb99~~1\" target=\"_other\">http://data.europa.eu/88u/dataset/e02ad618-ab42-48b5-8551-849aa936bb99~~1</a></td>\n",
                     "<td class=val>Baumkataster Stadt Köln</td>\n",
                     "<td class=val><a href=\"http://dcat-ap.de/def/contributors/gdiDE\" target=\"_other\">http://dcat-ap.de/def/contributors/gdiDE</a></td>\n",
                     "<td class=val>2024-12-10T00:00:00</td></tr><tr class=odd><td class=val><a href=\"http://data.europa.eu/88u/dataset/https-open-bydata-de-api-hub-repo-datasets-baumkataster-des-marktes-goldbach-2024\" target=\"_other\">http://data.europa.eu/88u/dataset/https-open-bydata-de-api-hub-repo-datasets-baumkataster-des-marktes-goldbach-2024</a></td>\n",
                     "<td class=val>Baumkataster des Marktes Goldbach 2024</td>\n",
                     "<td class=val><a href=\"http://dcat-ap.de/def/contributors/openDataBayern\" target=\"_other\">http://dcat-ap.de/def/contributors/openDataBayern</a></td>\n",
                     "<td class=val>2024-08-28T00:00:00</td></tr><tr class=even><td class=val><a href=\"http://data.europa.eu/88u/dataset/45a104e1-2a3e-4b90-9e24-dc97d34b3298\" target=\"_other\">http://data.europa.eu/88u/dataset/45a104e1-2a3e-4b90-9e24-dc97d34b3298</a></td>\n",
                     "<td class=val>Baumkataster - Amt Beetsee Gemeinde Beetzseeheide</td>\n",
                     "<td class=val><a href=\"http://dcat-ap.de/def/contributors/openDataBrandenburg\" target=\"_other\">http://dcat-ap.de/def/contributors/openDataBrandenburg</a></td>\n",
                     "<td class=val>2024-12-04T14:04:12</td></tr><tr class=odd><td class=val><a href=\"http://data.europa.eu/88u/dataset/https-munigrid-de-hbg-dataset-geo-baumkataster\" target=\"_other\">http://data.europa.eu/88u/dataset/https-munigrid-de-hbg-dataset-geo-baumkataster</a></td>\n",
                     "<td class=val>Baumkataster</td>\n",
                     "<td class=val><a href=\"http://dcat-ap.de/def/contributors/datenBW\" target=\"_other\">http://dcat-ap.de/def/contributors/datenBW</a></td>\n",
                     "<td class=val>2024-09-02T16:23:45Z</td></tr></table><div class=\"tinfo\">Total: 17, Shown: 17</div></div>"
                  ]
               },
               "metadata": {},
               "output_type": "display_data"
            }
         ],
         "source": [
            "%endpoint https://data.europa.eu/sparql\n",
            "PREFIX dct: <http://purl.org/dc/terms/>\n",
            "PREFIX dcatde: <http://dcat-ap.de/def/dcatde/>\n",
            "\n",
            "SELECT ?uri ?title ?contributorid ?modified WHERE {\n",
            "    {\n",
            "        SELECT ?uri ?title ?contributorid ?modified WHERE {\n",
            "            ?uri dct:title ?title .\n",
            "            ?uri dcatde:contributorID ?contributorid .\n",
            "            ?uri dct:modified ?modified .\n",
            "            FILTER(isURI(?contributorid))\n",
            "            FILTER(strstarts(str(?contributorid), \"http://dcat-ap.de/def/contributors/\"))       \n",
            "            FILTER(CONTAINS(LCASE(?title), \"baumkataster\"))\n",
            "            FILTER(CONTAINS(STR(?modified), \"2022\") || CONTAINS(STR(?modified), \"2023\") || CONTAINS(STR(?modified), \"2024\"))\n",
            "        }\n",
            "    }\n",
            "}"
         ]
      }
   ],
   "metadata": {
      "kernelspec": {
         "display_name": "SPARQL",
         "language": "sparql",
         "name": "sparql"
      },
      "language_info": {
         "codemirror_mode": {
            "name": "sparql"
         },
         "mimetype": "application/sparql-query",
         "name": "sparql",
         "pygments_lexer": "sparql-nb"
      }
   },
   "nbformat": 4,
   "nbformat_minor": 2
}
